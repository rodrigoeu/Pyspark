{
 "cells": [
  {
   "cell_type": "markdown",
   "id": "f5a0538b",
   "metadata": {},
   "source": [
    "# Utilizando Pyspark para responder questões de negócio - Uber Dataset"
   ]
  },
  {
   "cell_type": "markdown",
   "id": "7529c91f",
   "metadata": {},
   "source": [
    "Dataset: https://github.com/fivethirtyeight/uber-tlc-foil-response"
   ]
  },
  {
   "cell_type": "markdown",
   "id": "1f87a0e5",
   "metadata": {
    "ExecuteTime": {
     "end_time": "2022-05-25T21:04:55.996792Z",
     "start_time": "2022-05-25T21:04:55.987824Z"
    }
   },
   "source": [
    "Esse conjunto de dados contém dados de mais de 4,5 milhões de captações Uber na cidade de Nova York de abril a setembro de 2014 e 14,3 milhões de captações Uber de janeiro a junho de 2015. Dados em nível de viagem sobre 10 outras empresas de veículos de aluguel (FHV) bem como dados agregados para 329 empresas de FHV, também estão incluídos. Todos os arquivos foram recebidos em 3 de agosto, 15 de setembro e 22 de setembro de 2015."
   ]
  },
  {
   "cell_type": "markdown",
   "id": "819b9b8b",
   "metadata": {
    "ExecuteTime": {
     "end_time": "2022-05-25T21:05:07.048142Z",
     "start_time": "2022-05-25T21:05:07.041130Z"
    }
   },
   "source": [
    "**O objetivo deste notebook será responder as perguntas de negócios abaixo:**\n",
    "\n",
    "1- Quantos são e quais são as bases de carros do Uber (onde os carros ficam esperando passageiros)?\n",
    "\n",
    "2- Qual o total de veículos que passaram pela base B02617?\n",
    "\n",
    "3- Qual o total de corridas por base? Apresente de forma decrescente."
   ]
  },
  {
   "cell_type": "markdown",
   "id": "09c34bd7",
   "metadata": {
    "heading_collapsed": true
   },
   "source": [
    "## Carregando o Dataset"
   ]
  },
  {
   "cell_type": "code",
   "execution_count": 3,
   "id": "b88e496a",
   "metadata": {
    "ExecuteTime": {
     "end_time": "2022-05-25T21:06:22.075062Z",
     "start_time": "2022-05-25T21:06:21.570414Z"
    },
    "hidden": true
   },
   "outputs": [],
   "source": [
    "uberRDD = sc.textFile('data/uber.csv')"
   ]
  },
  {
   "cell_type": "code",
   "execution_count": 5,
   "id": "1db1e1d7",
   "metadata": {
    "ExecuteTime": {
     "end_time": "2022-05-25T21:06:48.845742Z",
     "start_time": "2022-05-25T21:06:48.024080Z"
    },
    "hidden": true
   },
   "outputs": [
    {
     "data": {
      "text/plain": [
       "['dispatching_base_number,date,active_vehicles,trips',\n",
       " 'B02512,1/1/2015,190,1132',\n",
       " 'B02765,1/1/2015,225,1765',\n",
       " 'B02764,1/1/2015,3427,29421',\n",
       " 'B02682,1/1/2015,945,7679']"
      ]
     },
     "execution_count": 5,
     "metadata": {},
     "output_type": "execute_result"
    }
   ],
   "source": [
    "uberRDD.take(5)"
   ]
  },
  {
   "cell_type": "code",
   "execution_count": 6,
   "id": "c57dafe3",
   "metadata": {
    "ExecuteTime": {
     "end_time": "2022-05-25T21:07:06.693477Z",
     "start_time": "2022-05-25T21:07:05.050942Z"
    },
    "hidden": true
   },
   "outputs": [
    {
     "data": {
      "text/plain": [
       "355"
      ]
     },
     "execution_count": 6,
     "metadata": {},
     "output_type": "execute_result"
    }
   ],
   "source": [
    "uberRDD.count()"
   ]
  },
  {
   "cell_type": "markdown",
   "id": "0dd3cb4b",
   "metadata": {
    "heading_collapsed": true
   },
   "source": [
    "## 1- Quantos são e quais são as bases de carros do Uber (onde os carros ficam esperando passageiros)?  "
   ]
  },
  {
   "cell_type": "code",
   "execution_count": null,
   "id": "74ff8719",
   "metadata": {
    "ExecuteTime": {
     "end_time": "2022-05-25T22:13:42.091302Z",
     "start_time": "2022-05-25T22:13:39.734290Z"
    },
    "hidden": true
   },
   "outputs": [],
   "source": [
    "basesRDD = uberRDD.(lambda x: x[0:6])"
   ]
  },
  {
   "cell_type": "code",
   "execution_count": 31,
   "id": "31c9a763",
   "metadata": {
    "ExecuteTime": {
     "end_time": "2022-05-25T21:24:42.523306Z",
     "start_time": "2022-05-25T21:24:41.909508Z"
    },
    "hidden": true
   },
   "outputs": [
    {
     "data": {
      "text/plain": [
       "['dispat', 'B02512', 'B02765', 'B02764', 'B02682']"
      ]
     },
     "execution_count": 31,
     "metadata": {},
     "output_type": "execute_result"
    }
   ],
   "source": [
    "basesRDD.take(5)"
   ]
  },
  {
   "cell_type": "code",
   "execution_count": 69,
   "id": "3b4529dd",
   "metadata": {
    "ExecuteTime": {
     "end_time": "2022-05-25T21:39:58.553905Z",
     "start_time": "2022-05-25T21:39:56.080841Z"
    },
    "hidden": true
   },
   "outputs": [
    {
     "data": {
      "text/plain": [
       "6"
      ]
     },
     "execution_count": 69,
     "metadata": {},
     "output_type": "execute_result"
    }
   ],
   "source": [
    "basesRDD.distinct().count() -1"
   ]
  },
  {
   "cell_type": "code",
   "execution_count": 36,
   "id": "448fdd1e",
   "metadata": {
    "ExecuteTime": {
     "end_time": "2022-05-25T21:27:43.110018Z",
     "start_time": "2022-05-25T21:27:40.608121Z"
    },
    "hidden": true
   },
   "outputs": [
    {
     "data": {
      "text/plain": [
       "['dispat', 'B02765', 'B02682', 'B02598', 'B02512', 'B02764', 'B02617']"
      ]
     },
     "execution_count": 36,
     "metadata": {},
     "output_type": "execute_result"
    }
   ],
   "source": [
    "basesRDD.distinct().collect()"
   ]
  },
  {
   "cell_type": "markdown",
   "id": "6a937435",
   "metadata": {
    "heading_collapsed": true,
    "hidden": true
   },
   "source": [
    "### Resposta: "
   ]
  },
  {
   "cell_type": "markdown",
   "id": "6b0a2d74",
   "metadata": {
    "hidden": true
   },
   "source": [
    "**Há 6 bases Uber: B02765, B02682, B02598, B02512, B02764, B02617**"
   ]
  },
  {
   "cell_type": "markdown",
   "id": "66995e55",
   "metadata": {
    "heading_collapsed": true
   },
   "source": [
    "## 2- Qual o total de veículos que passaram pela base B02617?"
   ]
  },
  {
   "cell_type": "code",
   "execution_count": 38,
   "id": "fa6939ba",
   "metadata": {
    "ExecuteTime": {
     "end_time": "2022-05-25T21:30:04.731645Z",
     "start_time": "2022-05-25T21:30:02.295281Z"
    },
    "hidden": true
   },
   "outputs": [
    {
     "data": {
      "text/plain": [
       "['dispat', 'B02765', 'B02682', 'B02598', 'B02512', 'B02764', 'B02617']"
      ]
     },
     "execution_count": 38,
     "metadata": {},
     "output_type": "execute_result"
    }
   ],
   "source": [
    "basesRDD.distinct().collect()"
   ]
  },
  {
   "cell_type": "code",
   "execution_count": 63,
   "id": "8ea50ab3",
   "metadata": {
    "ExecuteTime": {
     "end_time": "2022-05-25T21:37:40.675719Z",
     "start_time": "2022-05-25T21:37:40.667741Z"
    },
    "hidden": true
   },
   "outputs": [],
   "source": [
    "#Separando o RDD em coluans\n",
    "uberLinhas = uberRDD.map(lambda line: line.split(\",\"))"
   ]
  },
  {
   "cell_type": "code",
   "execution_count": 124,
   "id": "286292a2",
   "metadata": {
    "ExecuteTime": {
     "end_time": "2022-05-25T21:54:52.799567Z",
     "start_time": "2022-05-25T21:54:51.600669Z"
    },
    "hidden": true
   },
   "outputs": [
    {
     "data": {
      "text/plain": [
       "59"
      ]
     },
     "execution_count": 124,
     "metadata": {},
     "output_type": "execute_result"
    }
   ],
   "source": [
    "uberLinhas.filter(lambda linha: 'B02617' in linha).count()"
   ]
  },
  {
   "cell_type": "markdown",
   "id": "7390bbe9",
   "metadata": {
    "ExecuteTime": {
     "end_time": "2022-05-25T21:55:53.707770Z",
     "start_time": "2022-05-25T21:55:53.689819Z"
    },
    "heading_collapsed": true,
    "hidden": true
   },
   "source": [
    "### Resposta:"
   ]
  },
  {
   "cell_type": "markdown",
   "id": "ddca7ac2",
   "metadata": {
    "hidden": true
   },
   "source": [
    "**59 veículos passaram pela base B02617**"
   ]
  },
  {
   "cell_type": "markdown",
   "id": "7f2c2ef6",
   "metadata": {
    "heading_collapsed": true
   },
   "source": [
    "## 3- Qual o total de corridas por base? De forma decrescente"
   ]
  },
  {
   "cell_type": "code",
   "execution_count": 127,
   "id": "45b8e2f1",
   "metadata": {
    "ExecuteTime": {
     "end_time": "2022-05-25T21:59:15.160502Z",
     "start_time": "2022-05-25T21:59:15.156514Z"
    },
    "hidden": true
   },
   "outputs": [],
   "source": [
    "b02617_RDD = uberLinhas.filter(lambda linha: \"B02617\" in linha)"
   ]
  },
  {
   "cell_type": "code",
   "execution_count": 128,
   "id": "4c1e04ce",
   "metadata": {
    "ExecuteTime": {
     "end_time": "2022-05-25T22:00:41.197804Z",
     "start_time": "2022-05-25T22:00:40.583041Z"
    },
    "hidden": true
   },
   "outputs": [
    {
     "data": {
      "text/plain": [
       "'dispatching_base_number,date,active_vehicles,trips'"
      ]
     },
     "execution_count": 128,
     "metadata": {},
     "output_type": "execute_result"
    }
   ],
   "source": [
    "uberRDD.first()"
   ]
  },
  {
   "cell_type": "code",
   "execution_count": 161,
   "id": "b34b0d2e",
   "metadata": {
    "ExecuteTime": {
     "end_time": "2022-05-25T22:19:18.732460Z",
     "start_time": "2022-05-25T22:19:18.687576Z"
    },
    "hidden": true
   },
   "outputs": [],
   "source": [
    "#Criando um novo RDD, porém sem o cabeçalho\n",
    "uberRDD2 = sc.textFile(\"data/uber.csv\").filter(lambda line: \"base\" not in line).map(lambda line:line.split(\",\"))"
   ]
  },
  {
   "cell_type": "code",
   "execution_count": 162,
   "id": "25c673c9",
   "metadata": {
    "ExecuteTime": {
     "end_time": "2022-05-25T22:19:35.570564Z",
     "start_time": "2022-05-25T22:19:33.206517Z"
    },
    "hidden": true
   },
   "outputs": [
    {
     "data": {
      "text/plain": [
       "[('B02765', 193670),\n",
       " ('B02682', 662509),\n",
       " ('B02598', 540791),\n",
       " ('B02512', 93786),\n",
       " ('B02764', 1914449),\n",
       " ('B02617', 725025)]"
      ]
     },
     "execution_count": 162,
     "metadata": {},
     "output_type": "execute_result"
    }
   ],
   "source": [
    "uberRDD2.map(lambda kp: (kp[0], int(kp[3])) ).reduceByKey(lambda k,v: k + v).collect()"
   ]
  },
  {
   "cell_type": "code",
   "execution_count": 163,
   "id": "64a0febc",
   "metadata": {
    "ExecuteTime": {
     "end_time": "2022-05-25T22:20:21.055247Z",
     "start_time": "2022-05-25T22:20:18.627862Z"
    },
    "hidden": true
   },
   "outputs": [
    {
     "data": {
      "text/plain": [
       "[('B02764', 1914449),\n",
       " ('B02617', 725025),\n",
       " ('B02682', 662509),\n",
       " ('B02598', 540791),\n",
       " ('B02765', 193670),\n",
       " ('B02512', 93786)]"
      ]
     },
     "execution_count": 163,
     "metadata": {},
     "output_type": "execute_result"
    }
   ],
   "source": [
    "#Organizando em forma decrescente\n",
    "uberRDD2.map(lambda kp: (kp[0], int(kp[3])) ).reduceByKey(lambda k,v: k + v).takeOrdered(10, key = lambda x: -x[1])"
   ]
  },
  {
   "cell_type": "markdown",
   "id": "05cf087b",
   "metadata": {
    "heading_collapsed": true,
    "hidden": true
   },
   "source": [
    "### Resposta: "
   ]
  },
  {
   "cell_type": "markdown",
   "id": "0ef3e145",
   "metadata": {
    "hidden": true
   },
   "source": [
    "- B02764: 1914449\n",
    "- B02617: 725025\n",
    "- B02682: 662509\n",
    "- B02598: 540791\n",
    "- B02765: 193670\n",
    "- B02512: 93786"
   ]
  },
  {
   "cell_type": "code",
   "execution_count": null,
   "id": "1d68e942",
   "metadata": {
    "hidden": true
   },
   "outputs": [],
   "source": []
  }
 ],
 "metadata": {
  "kernelspec": {
   "display_name": "Python 3 (ipykernel)",
   "language": "python",
   "name": "python3"
  },
  "language_info": {
   "codemirror_mode": {
    "name": "ipython",
    "version": 3
   },
   "file_extension": ".py",
   "mimetype": "text/x-python",
   "name": "python",
   "nbconvert_exporter": "python",
   "pygments_lexer": "ipython3",
   "version": "3.9.7"
  }
 },
 "nbformat": 4,
 "nbformat_minor": 5
}
