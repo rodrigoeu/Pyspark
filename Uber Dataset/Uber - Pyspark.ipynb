{
 "cells": [
  {
   "cell_type": "markdown",
   "id": "f5a0538b",
   "metadata": {},
   "source": [
    "# Utilizando Pyspark para responder questões de negócio - Uber Dataset"
   ]
  },
  {
   "cell_type": "markdown",
   "id": "7529c91f",
   "metadata": {},
   "source": [
    "Dataset: https://github.com/fivethirtyeight/uber-tlc-foil-response"
   ]
  },
  {
   "cell_type": "markdown",
   "id": "1f87a0e5",
   "metadata": {
    "ExecuteTime": {
     "end_time": "2022-05-25T21:04:55.996792Z",
     "start_time": "2022-05-25T21:04:55.987824Z"
    }
   },
   "source": [
    "Esse conjunto de dados contém dados de mais de 4,5 milhões de captações Uber na cidade de Nova York de abril a setembro de 2014 e 14,3 milhões de captações Uber de janeiro a junho de 2015. Dados em nível de viagem sobre 10 outras empresas de veículos de aluguel (FHV) bem como dados agregados para 329 empresas de FHV, também estão incluídos. Todos os arquivos foram recebidos em 3 de agosto, 15 de setembro e 22 de setembro de 2015."
   ]
  },
  {
   "cell_type": "markdown",
   "id": "819b9b8b",
   "metadata": {
    "ExecuteTime": {
     "end_time": "2022-05-25T21:05:07.048142Z",
     "start_time": "2022-05-25T21:05:07.041130Z"
    }
   },
   "source": [
    "**O objetivo deste notebook será responder as perguntas de negócios abaixo:**\n",
    "\n",
    "1- Quantos são e quais são as bases de carros do Uber (onde os carros ficam esperando passageiros)?\n",
    "\n",
    "2- Qual o total de veículos que passaram pela base B02617?\n",
    "\n",
    "3- Qual o total de corridas por base? Apresente de forma decrescente."
   ]
  },
  {
   "cell_type": "markdown",
   "id": "09c34bd7",
   "metadata": {},
   "source": [
    "## Carregando o Dataset"
   ]
  },
  {
   "cell_type": "code",
   "execution_count": 1,
   "id": "b88e496a",
   "metadata": {
    "ExecuteTime": {
     "end_time": "2022-05-30T22:39:48.522043Z",
     "start_time": "2022-05-30T22:39:47.933299Z"
    }
   },
   "outputs": [],
   "source": [
    "uberRDD = sc.textFile('data/uber.csv')"
   ]
  },
  {
   "cell_type": "code",
   "execution_count": 2,
   "id": "1db1e1d7",
   "metadata": {
    "ExecuteTime": {
     "end_time": "2022-05-30T22:39:50.389407Z",
     "start_time": "2022-05-30T22:39:48.990053Z"
    }
   },
   "outputs": [
    {
     "data": {
      "text/plain": [
       "['dispatching_base_number,date,active_vehicles,trips',\n",
       " 'B02512,1/1/2015,190,1132',\n",
       " 'B02765,1/1/2015,225,1765',\n",
       " 'B02764,1/1/2015,3427,29421',\n",
       " 'B02682,1/1/2015,945,7679']"
      ]
     },
     "execution_count": 2,
     "metadata": {},
     "output_type": "execute_result"
    }
   ],
   "source": [
    "uberRDD.take(5)"
   ]
  },
  {
   "cell_type": "code",
   "execution_count": 3,
   "id": "c57dafe3",
   "metadata": {
    "ExecuteTime": {
     "end_time": "2022-05-30T22:39:52.361148Z",
     "start_time": "2022-05-30T22:39:50.992091Z"
    }
   },
   "outputs": [
    {
     "data": {
      "text/plain": [
       "355"
      ]
     },
     "execution_count": 3,
     "metadata": {},
     "output_type": "execute_result"
    }
   ],
   "source": [
    "uberRDD.count()"
   ]
  },
  {
   "cell_type": "markdown",
   "id": "0dd3cb4b",
   "metadata": {},
   "source": [
    "## 1- Quantos são e quais são as bases de carros do Uber (onde os carros ficam esperando passageiros)?  "
   ]
  },
  {
   "cell_type": "code",
   "execution_count": 9,
   "id": "74ff8719",
   "metadata": {
    "ExecuteTime": {
     "end_time": "2022-05-30T22:40:30.908104Z",
     "start_time": "2022-05-30T22:40:30.903116Z"
    }
   },
   "outputs": [],
   "source": [
    "basesRDD = uberRDD.map(lambda x: x[0:6])"
   ]
  },
  {
   "cell_type": "code",
   "execution_count": 10,
   "id": "31c9a763",
   "metadata": {
    "ExecuteTime": {
     "end_time": "2022-05-30T22:40:32.383380Z",
     "start_time": "2022-05-30T22:40:31.740365Z"
    }
   },
   "outputs": [
    {
     "data": {
      "text/plain": [
       "['dispat', 'B02512', 'B02765', 'B02764', 'B02682']"
      ]
     },
     "execution_count": 10,
     "metadata": {},
     "output_type": "execute_result"
    }
   ],
   "source": [
    "basesRDD.take(5)"
   ]
  },
  {
   "cell_type": "code",
   "execution_count": 11,
   "id": "3b4529dd",
   "metadata": {
    "ExecuteTime": {
     "end_time": "2022-05-30T22:40:36.142289Z",
     "start_time": "2022-05-30T22:40:33.104791Z"
    }
   },
   "outputs": [
    {
     "data": {
      "text/plain": [
       "6"
      ]
     },
     "execution_count": 11,
     "metadata": {},
     "output_type": "execute_result"
    }
   ],
   "source": [
    "basesRDD.distinct().count() -1"
   ]
  },
  {
   "cell_type": "code",
   "execution_count": 12,
   "id": "448fdd1e",
   "metadata": {
    "ExecuteTime": {
     "end_time": "2022-05-30T22:40:40.884374Z",
     "start_time": "2022-05-30T22:40:37.858392Z"
    }
   },
   "outputs": [
    {
     "data": {
      "text/plain": [
       "['dispat', 'B02765', 'B02682', 'B02598', 'B02512', 'B02764', 'B02617']"
      ]
     },
     "execution_count": 12,
     "metadata": {},
     "output_type": "execute_result"
    }
   ],
   "source": [
    "basesRDD.distinct().collect()"
   ]
  },
  {
   "cell_type": "markdown",
   "id": "6a937435",
   "metadata": {},
   "source": [
    "### Resposta: "
   ]
  },
  {
   "cell_type": "markdown",
   "id": "6b0a2d74",
   "metadata": {},
   "source": [
    "**Há 6 bases Uber: B02765, B02682, B02598, B02512, B02764, B02617**"
   ]
  },
  {
   "cell_type": "markdown",
   "id": "66995e55",
   "metadata": {},
   "source": [
    "## 2- Qual o total de veículos que passaram pela base B02617?"
   ]
  },
  {
   "cell_type": "code",
   "execution_count": 13,
   "id": "fa6939ba",
   "metadata": {
    "ExecuteTime": {
     "end_time": "2022-05-30T22:40:46.620605Z",
     "start_time": "2022-05-30T22:40:43.980249Z"
    }
   },
   "outputs": [
    {
     "data": {
      "text/plain": [
       "['dispat', 'B02765', 'B02682', 'B02598', 'B02512', 'B02764', 'B02617']"
      ]
     },
     "execution_count": 13,
     "metadata": {},
     "output_type": "execute_result"
    }
   ],
   "source": [
    "basesRDD.distinct().collect()"
   ]
  },
  {
   "cell_type": "code",
   "execution_count": 14,
   "id": "8ea50ab3",
   "metadata": {
    "ExecuteTime": {
     "end_time": "2022-05-30T22:40:48.431294Z",
     "start_time": "2022-05-30T22:40:48.422286Z"
    }
   },
   "outputs": [],
   "source": [
    "#Separando o RDD em coluans\n",
    "uberLinhas = uberRDD.map(lambda line: line.split(\",\"))"
   ]
  },
  {
   "cell_type": "code",
   "execution_count": 15,
   "id": "286292a2",
   "metadata": {
    "ExecuteTime": {
     "end_time": "2022-05-30T22:40:50.397269Z",
     "start_time": "2022-05-30T22:40:49.033279Z"
    }
   },
   "outputs": [
    {
     "data": {
      "text/plain": [
       "59"
      ]
     },
     "execution_count": 15,
     "metadata": {},
     "output_type": "execute_result"
    }
   ],
   "source": [
    "uberLinhas.filter(lambda linha: 'B02617' in linha).count()"
   ]
  },
  {
   "cell_type": "markdown",
   "id": "7390bbe9",
   "metadata": {
    "ExecuteTime": {
     "end_time": "2022-05-25T21:55:53.707770Z",
     "start_time": "2022-05-25T21:55:53.689819Z"
    }
   },
   "source": [
    "### Resposta:"
   ]
  },
  {
   "cell_type": "markdown",
   "id": "ddca7ac2",
   "metadata": {},
   "source": [
    "**59 veículos passaram pela base B02617**"
   ]
  },
  {
   "cell_type": "markdown",
   "id": "7f2c2ef6",
   "metadata": {},
   "source": [
    "## 3- Qual o total de corridas por base? De forma decrescente"
   ]
  },
  {
   "cell_type": "code",
   "execution_count": 16,
   "id": "45b8e2f1",
   "metadata": {
    "ExecuteTime": {
     "end_time": "2022-05-30T22:40:52.357196Z",
     "start_time": "2022-05-30T22:40:52.354181Z"
    }
   },
   "outputs": [],
   "source": [
    "b02617_RDD = uberLinhas.filter(lambda linha: \"B02617\" in linha)"
   ]
  },
  {
   "cell_type": "code",
   "execution_count": 17,
   "id": "4c1e04ce",
   "metadata": {
    "ExecuteTime": {
     "end_time": "2022-05-30T22:40:53.931462Z",
     "start_time": "2022-05-30T22:40:53.263148Z"
    }
   },
   "outputs": [
    {
     "data": {
      "text/plain": [
       "'dispatching_base_number,date,active_vehicles,trips'"
      ]
     },
     "execution_count": 17,
     "metadata": {},
     "output_type": "execute_result"
    }
   ],
   "source": [
    "uberRDD.first()"
   ]
  },
  {
   "cell_type": "code",
   "execution_count": 18,
   "id": "b34b0d2e",
   "metadata": {
    "ExecuteTime": {
     "end_time": "2022-05-30T22:40:54.506180Z",
     "start_time": "2022-05-30T22:40:54.457089Z"
    }
   },
   "outputs": [],
   "source": [
    "#Criando um novo RDD, porém sem o cabeçalho\n",
    "uberRDD2 = sc.textFile(\"data/uber.csv\").filter(lambda line: \"base\" not in line).map(lambda line:line.split(\",\"))"
   ]
  },
  {
   "cell_type": "code",
   "execution_count": 19,
   "id": "25c673c9",
   "metadata": {
    "ExecuteTime": {
     "end_time": "2022-05-30T22:40:57.831987Z",
     "start_time": "2022-05-30T22:40:55.122130Z"
    }
   },
   "outputs": [
    {
     "data": {
      "text/plain": [
       "[('B02765', 193670),\n",
       " ('B02682', 662509),\n",
       " ('B02598', 540791),\n",
       " ('B02512', 93786),\n",
       " ('B02764', 1914449),\n",
       " ('B02617', 725025)]"
      ]
     },
     "execution_count": 19,
     "metadata": {},
     "output_type": "execute_result"
    }
   ],
   "source": [
    "uberRDD2.map(lambda kp: (kp[0], int(kp[3])) ).reduceByKey(lambda k,v: k + v).collect()"
   ]
  },
  {
   "cell_type": "code",
   "execution_count": 20,
   "id": "64a0febc",
   "metadata": {
    "ExecuteTime": {
     "end_time": "2022-05-30T22:41:01.243774Z",
     "start_time": "2022-05-30T22:40:58.443157Z"
    }
   },
   "outputs": [
    {
     "data": {
      "text/plain": [
       "[('B02764', 1914449),\n",
       " ('B02617', 725025),\n",
       " ('B02682', 662509),\n",
       " ('B02598', 540791),\n",
       " ('B02765', 193670),\n",
       " ('B02512', 93786)]"
      ]
     },
     "execution_count": 20,
     "metadata": {},
     "output_type": "execute_result"
    }
   ],
   "source": [
    "#Organizando em forma decrescente\n",
    "uberRDD2.map(lambda kp: (kp[0], int(kp[3])) ).reduceByKey(lambda k,v: k + v).takeOrdered(10, key = lambda x: -x[1])"
   ]
  },
  {
   "cell_type": "markdown",
   "id": "05cf087b",
   "metadata": {},
   "source": [
    "### Resposta: "
   ]
  },
  {
   "cell_type": "markdown",
   "id": "0ef3e145",
   "metadata": {},
   "source": [
    "- B02764: 1914449\n",
    "- B02617: 725025\n",
    "- B02682: 662509\n",
    "- B02598: 540791\n",
    "- B02765: 193670\n",
    "- B02512: 93786"
   ]
  }
 ],
 "metadata": {
  "kernelspec": {
   "display_name": "Python 3 (ipykernel)",
   "language": "python",
   "name": "python3"
  },
  "language_info": {
   "codemirror_mode": {
    "name": "ipython",
    "version": 3
   },
   "file_extension": ".py",
   "mimetype": "text/x-python",
   "name": "python",
   "nbconvert_exporter": "python",
   "pygments_lexer": "ipython3",
   "version": "3.9.7"
  }
 },
 "nbformat": 4,
 "nbformat_minor": 5
}
